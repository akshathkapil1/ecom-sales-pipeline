{
 "cells": [
  {
   "cell_type": "markdown",
   "metadata": {
    "application/vnd.databricks.v1+cell": {
     "cellMetadata": {},
     "inputWidgets": {},
     "nuid": "06fc2187-6527-438e-b039-e55a2f908289",
     "showTitle": false,
     "tableResultSettingsMap": {},
     "title": ""
    }
   },
   "source": [
    "# ECOM SALES DATA ETL"
   ]
  },
  {
   "cell_type": "markdown",
   "metadata": {
    "application/vnd.databricks.v1+cell": {
     "cellMetadata": {},
     "inputWidgets": {},
     "nuid": "543aac6c-bd79-4e5e-983c-ed76860df29c",
     "showTitle": false,
     "tableResultSettingsMap": {},
     "title": ""
    }
   },
   "source": [
    "### imports"
   ]
  },
  {
   "cell_type": "code",
   "execution_count": 0,
   "metadata": {
    "application/vnd.databricks.v1+cell": {
     "cellMetadata": {
      "byteLimit": 2048000,
      "rowLimit": 10000
     },
     "inputWidgets": {},
     "nuid": "23af3470-f9cb-4ea3-a61f-bd6775013f1d",
     "showTitle": false,
     "tableResultSettingsMap": {},
     "title": ""
    }
   },
   "outputs": [],
   "source": [
    "import importlib\n",
    "import etl.constants\n",
    "import etl.data_extractor\n",
    "import etl.data_standardizer\n",
    "import etl.data_transformer\n",
    "\n",
    "from pyspark.sql import DataFrame\n",
    "from pyspark.sql.functions import col, trim, lower, to_date, when, coalesce, regexp_replace\n",
    "from typing import Dict\n",
    "\n",
    "from etl.constants import *\n",
    "from etl.data_extractor import DataExtractor\n",
    "from etl.data_standardizer import DataStandardizer\n",
    "from etl.data_transformer import DataTransformer\n",
    "\n",
    "importlib.reload(etl.constants)\n",
    "importlib.reload(etl.data_extractor)\n",
    "importlib.reload(etl.data_standardizer)\n",
    "importlib.reload(etl.data_transformer)"
   ]
  },
  {
   "cell_type": "markdown",
   "metadata": {
    "application/vnd.databricks.v1+cell": {
     "cellMetadata": {},
     "inputWidgets": {},
     "nuid": "6956432b-99f8-43c7-8b02-b495aa03380c",
     "showTitle": false,
     "tableResultSettingsMap": {},
     "title": ""
    }
   },
   "source": [
    "### data extractor (Bronze Layer)"
   ]
  },
  {
   "cell_type": "code",
   "execution_count": 0,
   "metadata": {
    "application/vnd.databricks.v1+cell": {
     "cellMetadata": {
      "byteLimit": 2048000,
      "rowLimit": 10000
     },
     "inputWidgets": {},
     "nuid": "feb3552d-7435-48c0-bbf4-e8cde4d2a033",
     "showTitle": false,
     "tableResultSettingsMap": {},
     "title": ""
    }
   },
   "outputs": [],
   "source": [
    "extractor : DataExtractor = DataExtractor(spark)\n",
    "raw_dataframes : Dict[str, DataFrame] = extractor.extract()\n"
   ]
  },
  {
   "cell_type": "markdown",
   "metadata": {
    "application/vnd.databricks.v1+cell": {
     "cellMetadata": {},
     "inputWidgets": {},
     "nuid": "6ae82329-0f5b-497a-a4c7-f061157f91ef",
     "showTitle": false,
     "tableResultSettingsMap": {},
     "title": ""
    }
   },
   "source": [
    "### Data Standardization and Cleaning (Silver Layer)"
   ]
  },
  {
   "cell_type": "code",
   "execution_count": 0,
   "metadata": {
    "application/vnd.databricks.v1+cell": {
     "cellMetadata": {
      "byteLimit": 2048000,
      "rowLimit": 10000
     },
     "inputWidgets": {},
     "nuid": "01b183ea-69d3-416e-a481-ceb8e1ec607d",
     "showTitle": false,
     "tableResultSettingsMap": {},
     "title": ""
    }
   },
   "outputs": [],
   "source": [
    "standardizer: DataStandardizer = DataStandardizer(raw_dataframes)\n",
    "cleaned_dataframes: Dict[str, DataFrame] = standardizer.process()\n"
   ]
  },
  {
   "cell_type": "code",
   "execution_count": 0,
   "metadata": {
    "application/vnd.databricks.v1+cell": {
     "cellMetadata": {
      "byteLimit": 2048000,
      "rowLimit": 10000
     },
     "inputWidgets": {},
     "nuid": "cefc96fc-e5af-4922-9506-98cf7593dd24",
     "showTitle": false,
     "tableResultSettingsMap": {},
     "title": ""
    }
   },
   "outputs": [],
   "source": [
    "\n",
    "# load silver layer data\n",
    "products_cleaned_df: DataFrame = cleaned_dataframes[PRODUCTS_KEY]\n",
    "customers_cleaned_df: DataFrame = cleaned_dataframes[CUSTOMERS_KEY]\n",
    "orders_cleaned_df: DataFrame = cleaned_dataframes[ORDERS_KEY]\n",
    "\n",
    "spark.sql(\"CREATE DATABASE IF NOT EXISTS ecom_sales_spark.silver\")\n",
    "\n",
    "products_cleaned_df.write.mode(\"overwrite\").saveAsTable(\"ecom_sales_spark.silver.products\")\n",
    "customers_cleaned_df.write.mode(\"overwrite\").saveAsTable(\"ecom_sales_spark.silver.customers\")\n",
    "orders_cleaned_df.write.mode(\"overwrite\").saveAsTable(\"ecom_sales_spark.silver.orders\")"
   ]
  },
  {
   "cell_type": "markdown",
   "metadata": {
    "application/vnd.databricks.v1+cell": {
     "cellMetadata": {},
     "inputWidgets": {},
     "nuid": "639d2206-30cb-403d-bbef-c4809800e19d",
     "showTitle": false,
     "tableResultSettingsMap": {},
     "title": ""
    }
   },
   "source": [
    "### Enriched and Aggregated Data (Gold Layer)"
   ]
  },
  {
   "cell_type": "code",
   "execution_count": 0,
   "metadata": {
    "application/vnd.databricks.v1+cell": {
     "cellMetadata": {
      "byteLimit": 2048000,
      "rowLimit": 10000
     },
     "inputWidgets": {},
     "nuid": "9b10941c-a066-4147-873e-3c61607016e2",
     "showTitle": false,
     "tableResultSettingsMap": {},
     "title": ""
    }
   },
   "outputs": [],
   "source": [
    "transformer = DataTransformer(cleaned_dataframes)\n",
    "transformed_dataframes = transformer.process()"
   ]
  },
  {
   "cell_type": "code",
   "execution_count": 0,
   "metadata": {
    "application/vnd.databricks.v1+cell": {
     "cellMetadata": {
      "byteLimit": 2048000,
      "rowLimit": 10000
     },
     "inputWidgets": {},
     "nuid": "a978d246-c4cc-4b3a-b3cd-ddb786e2e016",
     "showTitle": false,
     "tableResultSettingsMap": {},
     "title": ""
    }
   },
   "outputs": [],
   "source": [
    "# loading gold layer data\n",
    "spark.sql(\"CREATE DATABASE IF NOT EXISTS ecom_sales_spark.gold\")\n",
    "\n",
    "transformed_dataframes[ENRICHED_ORDERS_KEY].write.mode(\"overwrite\").saveAsTable(f\"ecom_sales_spark.gold.{ENRICHED_ORDERS_KEY}\")\n",
    "\n",
    "transformed_dataframes[AGGREGATED_PROFIT_KEY].write.mode(\"overwrite\").saveAsTable(f\"ecom_sales_spark.gold.{AGGREGATED_PROFIT_KEY}\")\n",
    "\n"
   ]
  },
  {
   "cell_type": "markdown",
   "metadata": {
    "application/vnd.databricks.v1+cell": {
     "cellMetadata": {},
     "inputWidgets": {},
     "nuid": "c604b35b-3440-43fc-baf4-951800abdc37",
     "showTitle": false,
     "tableResultSettingsMap": {},
     "title": ""
    }
   },
   "source": [
    "### SQL aggregate outputs on Gold Layer data"
   ]
  },
  {
   "cell_type": "code",
   "execution_count": 0,
   "metadata": {
    "application/vnd.databricks.v1+cell": {
     "cellMetadata": {
      "byteLimit": 2048000,
      "implicitDf": true,
      "rowLimit": 10000
     },
     "inputWidgets": {},
     "nuid": "972fbf21-8c73-4bc7-8de4-4ffa149e83e9",
     "showTitle": false,
     "tableResultSettingsMap": {},
     "title": ""
    }
   },
   "outputs": [],
   "source": [
    "%sql\n",
    "SELECT \n",
    "  order_year, \n",
    "  ROUND(SUM(total_profit), 2) AS profit_by_year\n",
    "FROM gold.aggregated_profit\n",
    "GROUP BY order_year\n",
    "ORDER BY order_year;"
   ]
  },
  {
   "cell_type": "code",
   "execution_count": 0,
   "metadata": {
    "application/vnd.databricks.v1+cell": {
     "cellMetadata": {
      "byteLimit": 2048000,
      "implicitDf": true,
      "rowLimit": 10000
     },
     "inputWidgets": {},
     "nuid": "1ce3a8fe-f9cd-4c40-8297-ed44c1ed2f37",
     "showTitle": false,
     "tableResultSettingsMap": {},
     "title": ""
    }
   },
   "outputs": [],
   "source": [
    "%sql\n",
    "SELECT \n",
    "  order_year, \n",
    "  category, \n",
    "  ROUND(SUM(total_profit), 2) AS profit_by_year_category\n",
    "FROM gold.aggregated_profit\n",
    "GROUP BY order_year, category\n",
    "ORDER BY order_year, category;"
   ]
  },
  {
   "cell_type": "code",
   "execution_count": 0,
   "metadata": {
    "application/vnd.databricks.v1+cell": {
     "cellMetadata": {
      "byteLimit": 2048000,
      "implicitDf": true,
      "rowLimit": 10000
     },
     "inputWidgets": {},
     "nuid": "ef4e79e5-0d60-4901-97ec-37ab7973e65c",
     "showTitle": false,
     "tableResultSettingsMap": {},
     "title": ""
    }
   },
   "outputs": [],
   "source": [
    "%sql\n",
    "SELECT \n",
    "  customer_name, \n",
    "  ROUND(SUM(total_profit), 2) AS profit_by_customer\n",
    "FROM gold.aggregated_profit\n",
    "GROUP BY customer_name\n",
    "ORDER BY profit_by_customer DESC;"
   ]
  },
  {
   "cell_type": "code",
   "execution_count": 0,
   "metadata": {
    "application/vnd.databricks.v1+cell": {
     "cellMetadata": {
      "byteLimit": 2048000,
      "implicitDf": true,
      "rowLimit": 10000
     },
     "inputWidgets": {},
     "nuid": "458dd564-510c-41da-a873-01799bde51b3",
     "showTitle": false,
     "tableResultSettingsMap": {},
     "title": ""
    }
   },
   "outputs": [],
   "source": [
    "%sql\n",
    "SELECT \n",
    "  customer_name, \n",
    "  order_year, \n",
    "  ROUND(SUM(total_profit), 2) AS profit_by_customer_year\n",
    "FROM gold.aggregated_profit\n",
    "GROUP BY customer_name, order_year\n",
    "ORDER BY customer_name, order_year;"
   ]
  },
  {
   "cell_type": "markdown",
   "metadata": {
    "application/vnd.databricks.v1+cell": {
     "cellMetadata": {},
     "inputWidgets": {},
     "nuid": "364bb044-9346-465e-8cd5-06c59ed72db2",
     "showTitle": false,
     "tableResultSettingsMap": {},
     "title": ""
    }
   },
   "source": [
    "## UNIT TESTS"
   ]
  },
  {
   "cell_type": "code",
   "execution_count": 0,
   "metadata": {
    "application/vnd.databricks.v1+cell": {
     "cellMetadata": {},
     "inputWidgets": {},
     "nuid": "7689ec01-f93f-4134-af24-b67149033165",
     "showTitle": false,
     "tableResultSettingsMap": {},
     "title": ""
    }
   },
   "outputs": [],
   "source": [
    "!pytest --assert=plain --cache-clear ./test/"
   ]
  }
 ],
 "metadata": {
  "application/vnd.databricks.v1+notebook": {
   "computePreferences": null,
   "dashboards": [],
   "environmentMetadata": {
    "base_environment": "",
    "environment_version": "2"
   },
   "inputWidgetPreferences": null,
   "language": "python",
   "notebookMetadata": {
    "mostRecentlyExecutedCommandWithImplicitDF": {
     "commandId": 5554728729599697,
     "dataframes": [
      "_sqldf"
     ]
    },
    "pythonIndentUnit": 4
   },
   "notebookName": "ecom-sales",
   "widgets": {}
  },
  "language_info": {
   "name": "python"
  }
 },
 "nbformat": 4,
 "nbformat_minor": 0
}
