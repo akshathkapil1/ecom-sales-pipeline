{
 "cells": [
  {
   "cell_type": "code",
   "execution_count": 0,
   "metadata": {
    "application/vnd.databricks.v1+cell": {
     "cellMetadata": {
      "byteLimit": 2048000,
      "rowLimit": 10000
     },
     "collapsed": true,
     "inputWidgets": {},
     "nuid": "2bd64b5f-5cc5-4fda-8bc6-8d35a8a20bfc",
     "showTitle": false,
     "tableResultSettingsMap": {},
     "title": ""
    }
   },
   "outputs": [],
   "source": [
    "!pytest --assert=plain --cache-clear ./test/"
   ]
  },
  {
   "cell_type": "code",
   "execution_count": 0,
   "metadata": {
    "application/vnd.databricks.v1+cell": {
     "cellMetadata": {
      "byteLimit": 2048000,
      "rowLimit": 10000
     },
     "inputWidgets": {},
     "nuid": "23af3470-f9cb-4ea3-a61f-bd6775013f1d",
     "showTitle": false,
     "tableResultSettingsMap": {},
     "title": ""
    }
   },
   "outputs": [],
   "source": [
    "import importlib\n",
    "\n",
    "import importlib\n",
    "import etl.constants\n",
    "import etl.data_extractor\n",
    "import etl.data_standardizer\n",
    "import etl.data_transformer\n",
    "\n",
    "from etl.constants import *\n",
    "from etl.data_extractor import DataExtractor\n",
    "from etl.data_standardizer import DataStandardizer\n",
    "from etl.data_transformer import DataTransformer\n",
    "\n",
    "importlib.reload(etl.constants)\n",
    "importlib.reload(etl.data_extractor)\n",
    "importlib.reload(etl.data_standardizer)\n",
    "importlib.reload(etl.data_transformer)"
   ]
  },
  {
   "cell_type": "code",
   "execution_count": 0,
   "metadata": {
    "application/vnd.databricks.v1+cell": {
     "cellMetadata": {
      "byteLimit": 2048000,
      "rowLimit": 10000
     },
     "inputWidgets": {},
     "nuid": "feb3552d-7435-48c0-bbf4-e8cde4d2a033",
     "showTitle": false,
     "tableResultSettingsMap": {},
     "title": ""
    }
   },
   "outputs": [],
   "source": [
    "extractor = DataExtractor(spark)\n",
    "raw_dataframes = extractor.extract()\n"
   ]
  },
  {
   "cell_type": "code",
   "execution_count": 0,
   "metadata": {
    "application/vnd.databricks.v1+cell": {
     "cellMetadata": {
      "byteLimit": 2048000,
      "rowLimit": 10000
     },
     "inputWidgets": {},
     "nuid": "01b183ea-69d3-416e-a481-ceb8e1ec607d",
     "showTitle": false,
     "tableResultSettingsMap": {},
     "title": ""
    }
   },
   "outputs": [],
   "source": [
    "standardizer = DataStandardizer(raw_dataframes)\n",
    "cleaned_dataframes = standardizer.process()\n"
   ]
  },
  {
   "cell_type": "code",
   "execution_count": 0,
   "metadata": {
    "application/vnd.databricks.v1+cell": {
     "cellMetadata": {
      "byteLimit": 2048000,
      "rowLimit": 10000
     },
     "inputWidgets": {},
     "nuid": "cefc96fc-e5af-4922-9506-98cf7593dd24",
     "showTitle": false,
     "tableResultSettingsMap": {},
     "title": ""
    }
   },
   "outputs": [],
   "source": [
    "products_cleaned_df = cleaned_dataframes[PRODUCTS_KEY]\n",
    "customers_cleaned_df = cleaned_dataframes[CUSTOMERS_KEY]\n",
    "orders_cleaned_df = cleaned_dataframes[ORDERS_KEY]\n",
    "\n",
    "spark.sql(\"CREATE DATABASE IF NOT EXISTS ecom_sales_spark.silver\")\n",
    "\n",
    "products_cleaned_df.write.mode(\"overwrite\").saveAsTable(\"ecom_sales_spark.silver.products\")\n",
    "customers_cleaned_df.write.mode(\"overwrite\").saveAsTable(\"ecom_sales_spark.silver.customers\")\n",
    "orders_cleaned_df.write.mode(\"overwrite\").saveAsTable(\"ecom_sales_spark.silver.orders\")"
   ]
  },
  {
   "cell_type": "code",
   "execution_count": 0,
   "metadata": {
    "application/vnd.databricks.v1+cell": {
     "cellMetadata": {
      "byteLimit": 2048000,
      "rowLimit": 10000
     },
     "inputWidgets": {},
     "nuid": "9b10941c-a066-4147-873e-3c61607016e2",
     "showTitle": false,
     "tableResultSettingsMap": {},
     "title": ""
    }
   },
   "outputs": [],
   "source": [
    "transformer = DataTransformer(cleaned_dataframes)\n",
    "transformed_dataframes = transformer.process()"
   ]
  },
  {
   "cell_type": "code",
   "execution_count": 0,
   "metadata": {
    "application/vnd.databricks.v1+cell": {
     "cellMetadata": {
      "byteLimit": 2048000,
      "rowLimit": 10000
     },
     "inputWidgets": {},
     "nuid": "a978d246-c4cc-4b3a-b3cd-ddb786e2e016",
     "showTitle": false,
     "tableResultSettingsMap": {},
     "title": ""
    }
   },
   "outputs": [],
   "source": [
    "spark.sql(\"CREATE DATABASE IF NOT EXISTS ecom_sales_spark.gold\")\n",
    "\n",
    "transformed_dataframes[ENRICHED_ORDERS_KEY].write.mode(\"overwrite\").saveAsTable(f\"ecom_sales_spark.gold.{ENRICHED_ORDERS_KEY}\")\n",
    "\n",
    "transformed_dataframes[AGGREGATED_PROFIT_KEY].write.mode(\"overwrite\").saveAsTable(f\"ecom_sales_spark.gold.{AGGREGATED_PROFIT_KEY}\")\n"
   ]
  },
  {
   "cell_type": "code",
   "execution_count": 0,
   "metadata": {
    "application/vnd.databricks.v1+cell": {
     "cellMetadata": {
      "byteLimit": 2048000,
      "implicitDf": true,
      "rowLimit": 10000
     },
     "inputWidgets": {},
     "nuid": "972fbf21-8c73-4bc7-8de4-4ffa149e83e9",
     "showTitle": false,
     "tableResultSettingsMap": {},
     "title": ""
    }
   },
   "outputs": [],
   "source": [
    "%sql\n",
    "SELECT \n",
    "  order_year, \n",
    "  ROUND(SUM(total_profit), 2) AS profit_by_year\n",
    "FROM gold.aggregated_profit\n",
    "GROUP BY order_year\n",
    "ORDER BY order_year;"
   ]
  },
  {
   "cell_type": "code",
   "execution_count": 0,
   "metadata": {
    "application/vnd.databricks.v1+cell": {
     "cellMetadata": {
      "byteLimit": 2048000,
      "implicitDf": true,
      "rowLimit": 10000
     },
     "inputWidgets": {},
     "nuid": "1ce3a8fe-f9cd-4c40-8297-ed44c1ed2f37",
     "showTitle": false,
     "tableResultSettingsMap": {},
     "title": ""
    }
   },
   "outputs": [],
   "source": [
    "%sql\n",
    "SELECT \n",
    "  order_year, \n",
    "  category, \n",
    "  ROUND(SUM(total_profit), 2) AS profit_by_year_category\n",
    "FROM gold.aggregated_profit\n",
    "GROUP BY order_year, category\n",
    "ORDER BY order_year, category;"
   ]
  },
  {
   "cell_type": "code",
   "execution_count": 0,
   "metadata": {
    "application/vnd.databricks.v1+cell": {
     "cellMetadata": {
      "byteLimit": 2048000,
      "implicitDf": true,
      "rowLimit": 10000
     },
     "inputWidgets": {},
     "nuid": "ef4e79e5-0d60-4901-97ec-37ab7973e65c",
     "showTitle": false,
     "tableResultSettingsMap": {},
     "title": ""
    }
   },
   "outputs": [],
   "source": [
    "%sql\n",
    "SELECT \n",
    "  customer_name, \n",
    "  ROUND(SUM(total_profit), 2) AS profit_by_customer\n",
    "FROM gold.aggregated_profit\n",
    "GROUP BY customer_name\n",
    "ORDER BY profit_by_customer DESC;"
   ]
  },
  {
   "cell_type": "code",
   "execution_count": 0,
   "metadata": {
    "application/vnd.databricks.v1+cell": {
     "cellMetadata": {
      "byteLimit": 2048000,
      "implicitDf": true,
      "rowLimit": 10000
     },
     "inputWidgets": {},
     "nuid": "458dd564-510c-41da-a873-01799bde51b3",
     "showTitle": false,
     "tableResultSettingsMap": {},
     "title": ""
    }
   },
   "outputs": [],
   "source": [
    "%sql\n",
    "SELECT \n",
    "  customer_name, \n",
    "  order_year, \n",
    "  ROUND(SUM(total_profit), 2) AS profit_by_customer_year\n",
    "FROM gold.aggregated_profit\n",
    "GROUP BY customer_name, order_year\n",
    "ORDER BY customer_name, order_year;"
   ]
  },
  {
   "cell_type": "code",
   "execution_count": 0,
   "metadata": {
    "application/vnd.databricks.v1+cell": {
     "cellMetadata": {
      "byteLimit": 2048000,
      "rowLimit": 10000
     },
     "inputWidgets": {},
     "nuid": "b7a4310c-b3ad-40c5-80de-518dca5f725b",
     "showTitle": false,
     "tableResultSettingsMap": {},
     "title": ""
    }
   },
   "outputs": [],
   "source": [
    "!pytest --assert=plain --cache-clear ./"
   ]
  }
 ],
 "metadata": {
  "application/vnd.databricks.v1+notebook": {
   "computePreferences": null,
   "dashboards": [],
   "environmentMetadata": {
    "base_environment": "",
    "environment_version": "2"
   },
   "inputWidgetPreferences": null,
   "language": "python",
   "notebookMetadata": {
    "mostRecentlyExecutedCommandWithImplicitDF": {
     "commandId": 6113313352257230,
     "dataframes": [
      "_sqldf"
     ]
    },
    "pythonIndentUnit": 4
   },
   "notebookName": "ecom-sales",
   "widgets": {}
  },
  "language_info": {
   "name": "python"
  }
 },
 "nbformat": 4,
 "nbformat_minor": 0
}
